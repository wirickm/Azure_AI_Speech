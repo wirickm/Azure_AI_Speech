{
 "cells": [
  {
   "cell_type": "markdown",
   "id": "3f398342",
   "metadata": {},
   "source": [
    "## Bringing Reddit AITA Stories to Life with Azure AI Text-to-Speech\n"
   ]
  },
  {
   "cell_type": "code",
   "execution_count": null,
   "id": "f43f7a4a",
   "metadata": {},
   "outputs": [],
   "source": [
    "import os\n",
    "from dotenv import load_dotenv\n",
    "import azure.cognitiveservices.speech as speechsdk\n",
    "\n",
    "# Load environment variables from .env file\n",
    "load_dotenv('Azure Text-To-Speech AITA.env')\n",
    "\n",
    "def read_text_file(file_path, encoding='utf-8'):\n",
    "    with open(file_path, 'r', encoding=encoding) as file:\n",
    "        text = file.read()\n",
    "    return text\n",
    "\n",
    "def text_to_speech(speech_key, service_region, text):\n",
    "    # Set up Azure text-to-speech\n",
    "    speech_config = speechsdk.SpeechConfig(subscription=speech_key, region=service_region)\n",
    "    audio_config = speechsdk.audio.AudioOutputConfig(use_default_speaker=True)\n",
    "\n",
    "    # Set the neural voice\n",
    "    speech_config.speech_synthesis_voice_name = 'en-US-KaiNeural'\n",
    "    speech_synthesizer = speechsdk.SpeechSynthesizer(speech_config=speech_config, audio_config=audio_config)\n",
    "\n",
    "    # Synthesize the text\n",
    "    result = speech_synthesizer.speak_text_async(text).get()\n",
    "\n",
    "    # Check the result\n",
    "    if result.reason == speechsdk.ResultReason.SynthesizingAudioCompleted:\n",
    "        print(\"Speech synthesized to speaker for text [{}]\".format(text))\n",
    "    elif result.reason == speechsdk.ResultReason.Canceled:\n",
    "        cancellation_details = result.cancellation_details\n",
    "        print(\"Speech synthesis canceled: {}\".format(cancellation_details.reason))\n",
    "        if cancellation_details.reason == speechsdk.CancellationReason.Error:\n",
    "            if cancellation_details.error_details:\n",
    "                print(\"Error details: {}\".format(cancellation_details.error_details))\n",
    "        print(\"Did you update the subscription info?\")\n",
    "\n",
    "if __name__ == \"__main__\":\n",
    "    # Load the API key and region from environment variables\n",
    "    speech_key = os.getenv(\"AZURE_SPEECH_KEY\")\n",
    "    service_region = os.getenv(\"AZURE_SERVICE_REGION\")\n",
    "    file_path = os.getenv(\"FILE_PATH\")\n",
    "    \n",
    "    text = read_text_file(file_path, encoding='utf-8')\n",
    "    text_to_speech(speech_key, service_region, text)\n"
   ]
  }
 ],
 "metadata": {
  "kernelspec": {
   "display_name": "Python 3 (ipykernel)",
   "language": "python",
   "name": "python3"
  },
  "language_info": {
   "codemirror_mode": {
    "name": "ipython",
    "version": 3
   },
   "file_extension": ".py",
   "mimetype": "text/x-python",
   "name": "python",
   "nbconvert_exporter": "python",
   "pygments_lexer": "ipython3",
   "version": "3.11.5"
  }
 },
 "nbformat": 4,
 "nbformat_minor": 5
}
